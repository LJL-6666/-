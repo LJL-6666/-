{
 "cells": [
  {
   "cell_type": "markdown",
   "metadata": {},
   "source": [
    "# numpy库"
   ]
  },
  {
   "cell_type": "markdown",
   "metadata": {},
   "source": [
    "## 一、安装库的方法"
   ]
  },
  {
   "cell_type": "markdown",
   "metadata": {},
   "source": [
    "* 直接pip安装\n",
    "* 在anaconda中安装"
   ]
  },
  {
   "cell_type": "markdown",
   "metadata": {},
   "source": [
    "##  二、导入库的方法"
   ]
  },
  {
   "cell_type": "markdown",
   "metadata": {},
   "source": [
    "* 方法1:import modname  \n",
    "\n",
    "       import modname as shortname        "
   ]
  },
  {
   "cell_type": "code",
   "execution_count": 9,
   "metadata": {},
   "outputs": [],
   "source": [
    "import numpy"
   ]
  },
  {
   "cell_type": "code",
   "execution_count": 10,
   "metadata": {},
   "outputs": [
    {
     "data": {
      "text/plain": [
       "2.0"
      ]
     },
     "execution_count": 10,
     "metadata": {},
     "output_type": "execute_result"
    }
   ],
   "source": [
    "numpy.sqrt(4)"
   ]
  },
  {
   "cell_type": "code",
   "execution_count": 15,
   "metadata": {},
   "outputs": [],
   "source": [
    "import numpy as np"
   ]
  },
  {
   "cell_type": "code",
   "execution_count": 16,
   "metadata": {},
   "outputs": [
    {
     "data": {
      "text/plain": [
       "array([0, 1, 2, 3, 4, 5, 6, 7, 8])"
      ]
     },
     "execution_count": 16,
     "metadata": {},
     "output_type": "execute_result"
    }
   ],
   "source": [
    "np.arange(9)"
   ]
  },
  {
   "cell_type": "markdown",
   "metadata": {},
   "source": [
    "* 方法2:from modname import funcname\n",
    "\n",
    "       form modname import fa,fa,fc"
   ]
  },
  {
   "cell_type": "code",
   "execution_count": 11,
   "metadata": {},
   "outputs": [],
   "source": [
    "from numpy import sqrt"
   ]
  },
  {
   "cell_type": "code",
   "execution_count": 12,
   "metadata": {},
   "outputs": [
    {
     "data": {
      "text/plain": [
       "2.0"
      ]
     },
     "execution_count": 12,
     "metadata": {},
     "output_type": "execute_result"
    }
   ],
   "source": [
    "sqrt(4)"
   ]
  },
  {
   "cell_type": "markdown",
   "metadata": {},
   "source": [
    "* 方法3:from modname import *"
   ]
  },
  {
   "cell_type": "code",
   "execution_count": 13,
   "metadata": {},
   "outputs": [],
   "source": [
    "from numpy import *"
   ]
  },
  {
   "cell_type": "code",
   "execution_count": 14,
   "metadata": {},
   "outputs": [
    {
     "data": {
      "text/plain": [
       "0.49999999999999994"
      ]
     },
     "execution_count": 14,
     "metadata": {},
     "output_type": "execute_result"
    }
   ],
   "source": [
    "sin(pi/6)"
   ]
  },
  {
   "cell_type": "markdown",
   "metadata": {},
   "source": [
    "## 三、结合金融场景演示numpy模块的操作"
   ]
  },
  {
   "cell_type": "markdown",
   "metadata": {},
   "source": [
    "|股票简称|2018年9月3日|2018年9月4日|2018年9月5日|2018年9月6日|2018年9月7日|\n",
    "|-------|-----------|-----------|-----------|-----------|-----------|\n",
    "|中国石油|0.3731%|2.1066%|-0.4854%|0.6098%|-0.6060%|\n",
    "|工商银行|-0.1838%|0.1842%|-1.6544%|-0.3738%|0.3752%|\n",
    "|上汽集团|-0.3087%|-0.0344%|-3.3391%|0.7123%|0.4597%|\n",
    "|宝钢股份|-2.4112%|1.1704%|-2.9563%|-1.4570%|1.6129%|"
   ]
  },
  {
   "cell_type": "markdown",
   "metadata": {},
   "source": [
    "numpy是运用python进行科学计算的基础包（模块），可以定义任意数据类型，它的内容包括：（1）强大的N维数组对象；（2）复杂的广播功能；（3）用于集成C/C++和Fortran代码的工具；（4）实用的线性代数、傅立叶变换和随机数功能等"
   ]
  },
  {
   "cell_type": "markdown",
   "metadata": {},
   "source": [
    "numpy除了显著的科学用途之外，还可以用作通用数据的高效多位容器，这使得numpy能够无缝快速地与各种数据库集成"
   ]
  },
  {
   "cell_type": "markdown",
   "metadata": {},
   "source": [
    "numpy是python的外部模块，因此使用时需要导入并且查看相应的版本信息"
   ]
  },
  {
   "cell_type": "markdown",
   "metadata": {},
   "source": [
    "### 3.1 导入numpy库"
   ]
  },
  {
   "cell_type": "code",
   "execution_count": 19,
   "metadata": {},
   "outputs": [],
   "source": [
    "import numpy as np #导入numpy模块"
   ]
  },
  {
   "cell_type": "code",
   "execution_count": 21,
   "metadata": {},
   "outputs": [
    {
     "data": {
      "text/plain": [
       "'1.16.4'"
      ]
     },
     "execution_count": 21,
     "metadata": {},
     "output_type": "execute_result"
    }
   ],
   "source": [
    "np.__version__   #查看numpy版本号"
   ]
  },
  {
   "cell_type": "markdown",
   "metadata": {},
   "source": [
    "### 3.2 股票信息输入"
   ]
  },
  {
   "cell_type": "markdown",
   "metadata": {},
   "source": [
    "numpy最显著的特征在于它的数据结构是运用了数组。数组（array）和前面的的列表有相似指出，但是数组是可以定义纬度的。因此数组的全称是N维数组，数组适合做数学代数运算。数组的结构如下：\n",
    "* 一维数组 np.array(一个数列）\n",
    "* 二维数组 np.array([数列1，数列2，...数列m]）"
   ]
  },
  {
   "cell_type": "markdown",
   "metadata": {},
   "source": [
    "#### 将4只股票的配置比例以一维数组方式直接在python中进行输入"
   ]
  },
  {
   "cell_type": "code",
   "execution_count": 22,
   "metadata": {},
   "outputs": [],
   "source": [
    "weight=np.array([0.15,0.2,0.25,0.4])"
   ]
  },
  {
   "cell_type": "code",
   "execution_count": 23,
   "metadata": {},
   "outputs": [
    {
     "data": {
      "text/plain": [
       "numpy.ndarray"
      ]
     },
     "execution_count": 23,
     "metadata": {},
     "output_type": "execute_result"
    }
   ],
   "source": [
    "type(weight)"
   ]
  },
  {
   "cell_type": "code",
   "execution_count": 25,
   "metadata": {},
   "outputs": [
    {
     "data": {
      "text/plain": [
       "(4,)"
      ]
     },
     "execution_count": 25,
     "metadata": {},
     "output_type": "execute_result"
    }
   ],
   "source": [
    "weight.shape "
   ]
  },
  {
   "cell_type": "markdown",
   "metadata": {},
   "source": [
    "用shape函数可以得到该变量是一维数组，相当于是一个由4个元素组成的向量"
   ]
  },
  {
   "cell_type": "markdown",
   "metadata": {},
   "source": [
    "#### 将这4只股票涨跌幅以数组方式在python中进行输入"
   ]
  },
  {
   "cell_type": "code",
   "execution_count": 32,
   "metadata": {},
   "outputs": [],
   "source": [
    "stock_return=np.array([[0.003731,0.021066,-0.004854,0.006098,-0.00606],\n",
    "                       [-0.001838,0.001842,-0.016544,-0.003738,0.003752],\n",
    "                       [-0.003087,-0.000344,-0.033391,0.007123,0.004597],\n",
    "                       [-0.024112,0.011704,-0.029563,-0.01457,0.016129]])"
   ]
  },
  {
   "cell_type": "code",
   "execution_count": 34,
   "metadata": {},
   "outputs": [
    {
     "data": {
      "text/plain": [
       "array([[ 0.003731,  0.021066, -0.004854,  0.006098, -0.00606 ],\n",
       "       [-0.001838,  0.001842, -0.016544, -0.003738,  0.003752],\n",
       "       [-0.003087, -0.000344, -0.033391,  0.007123,  0.004597],\n",
       "       [-0.024112,  0.011704, -0.029563, -0.01457 ,  0.016129]])"
      ]
     },
     "execution_count": 34,
     "metadata": {},
     "output_type": "execute_result"
    }
   ],
   "source": [
    "stock_return"
   ]
  },
  {
   "cell_type": "code",
   "execution_count": 35,
   "metadata": {},
   "outputs": [
    {
     "data": {
      "text/plain": [
       "(4, 5)"
      ]
     },
     "execution_count": 35,
     "metadata": {},
     "output_type": "execute_result"
    }
   ],
   "source": [
    "stock_return.shape"
   ]
  },
  {
   "cell_type": "markdown",
   "metadata": {},
   "source": [
    "##### 列表转换为数组np.array"
   ]
  },
  {
   "cell_type": "markdown",
   "metadata": {},
   "source": [
    "思考？weight和stock_return先以列表输入，再转换为数组"
   ]
  },
  {
   "cell_type": "markdown",
   "metadata": {},
   "source": [
    "##### ndim函数和size函数"
   ]
  },
  {
   "cell_type": "markdown",
   "metadata": {},
   "source": [
    "### 3.3 数组的便捷生成"
   ]
  },
  {
   "cell_type": "markdown",
   "metadata": {},
   "source": [
    "#### 1、生成整数序列"
   ]
  },
  {
   "cell_type": "code",
   "execution_count": 37,
   "metadata": {},
   "outputs": [],
   "source": [
    "a=np.arange(10)"
   ]
  },
  {
   "cell_type": "code",
   "execution_count": 38,
   "metadata": {},
   "outputs": [
    {
     "data": {
      "text/plain": [
       "array([0, 1, 2, 3, 4, 5, 6, 7, 8, 9])"
      ]
     },
     "execution_count": 38,
     "metadata": {},
     "output_type": "execute_result"
    }
   ],
   "source": [
    "a"
   ]
  },
  {
   "cell_type": "code",
   "execution_count": 39,
   "metadata": {},
   "outputs": [],
   "source": [
    "b=np.arange(1,15,3)"
   ]
  },
  {
   "cell_type": "code",
   "execution_count": 40,
   "metadata": {},
   "outputs": [
    {
     "data": {
      "text/plain": [
       "array([ 1,  4,  7, 10, 13])"
      ]
     },
     "execution_count": 40,
     "metadata": {},
     "output_type": "execute_result"
    }
   ],
   "source": [
    "b"
   ]
  },
  {
   "cell_type": "markdown",
   "metadata": {},
   "source": [
    "#### 2、生成等差序列"
   ]
  },
  {
   "cell_type": "code",
   "execution_count": 41,
   "metadata": {},
   "outputs": [
    {
     "data": {
      "text/plain": [
       "array([  0.,   2.,   4.,   6.,   8.,  10.,  12.,  14.,  16.,  18.,  20.,\n",
       "        22.,  24.,  26.,  28.,  30.,  32.,  34.,  36.,  38.,  40.,  42.,\n",
       "        44.,  46.,  48.,  50.,  52.,  54.,  56.,  58.,  60.,  62.,  64.,\n",
       "        66.,  68.,  70.,  72.,  74.,  76.,  78.,  80.,  82.,  84.,  86.,\n",
       "        88.,  90.,  92.,  94.,  96.,  98., 100.])"
      ]
     },
     "execution_count": 41,
     "metadata": {},
     "output_type": "execute_result"
    }
   ],
   "source": [
    "np.linspace(0,100,51)"
   ]
  },
  {
   "cell_type": "markdown",
   "metadata": {},
   "source": [
    "#### 3、创建元素0的数组"
   ]
  },
  {
   "cell_type": "code",
   "execution_count": 44,
   "metadata": {},
   "outputs": [],
   "source": [
    "zero_array1=np.zeros(5) #5代表形状参数"
   ]
  },
  {
   "cell_type": "code",
   "execution_count": 45,
   "metadata": {},
   "outputs": [
    {
     "data": {
      "text/plain": [
       "array([0., 0., 0., 0., 0.])"
      ]
     },
     "execution_count": 45,
     "metadata": {},
     "output_type": "execute_result"
    }
   ],
   "source": [
    "zero_array1"
   ]
  },
  {
   "cell_type": "code",
   "execution_count": 47,
   "metadata": {},
   "outputs": [],
   "source": [
    "zero_array2=np.zeros([5,6]) #5,6代表形状参数"
   ]
  },
  {
   "cell_type": "code",
   "execution_count": 48,
   "metadata": {},
   "outputs": [
    {
     "data": {
      "text/plain": [
       "array([[0., 0., 0., 0., 0., 0.],\n",
       "       [0., 0., 0., 0., 0., 0.],\n",
       "       [0., 0., 0., 0., 0., 0.],\n",
       "       [0., 0., 0., 0., 0., 0.],\n",
       "       [0., 0., 0., 0., 0., 0.]])"
      ]
     },
     "execution_count": 48,
     "metadata": {},
     "output_type": "execute_result"
    }
   ],
   "source": [
    "zero_array2"
   ]
  },
  {
   "cell_type": "code",
   "execution_count": 50,
   "metadata": {},
   "outputs": [
    {
     "data": {
      "text/plain": [
       "array([0.15, 0.2 , 0.25, 0.4 ])"
      ]
     },
     "execution_count": 50,
     "metadata": {},
     "output_type": "execute_result"
    }
   ],
   "source": [
    "weight"
   ]
  },
  {
   "cell_type": "code",
   "execution_count": 51,
   "metadata": {},
   "outputs": [],
   "source": [
    "zero_weight=np.zeros_like(weight)"
   ]
  },
  {
   "cell_type": "code",
   "execution_count": 52,
   "metadata": {},
   "outputs": [
    {
     "data": {
      "text/plain": [
       "array([0., 0., 0., 0.])"
      ]
     },
     "execution_count": 52,
     "metadata": {},
     "output_type": "execute_result"
    }
   ],
   "source": [
    "zero_weight"
   ]
  },
  {
   "cell_type": "markdown",
   "metadata": {},
   "source": [
    "#### 4、创建元素1的数组"
   ]
  },
  {
   "cell_type": "code",
   "execution_count": 53,
   "metadata": {},
   "outputs": [
    {
     "data": {
      "text/plain": [
       "array([[ 0.003731,  0.021066, -0.004854,  0.006098, -0.00606 ],\n",
       "       [-0.001838,  0.001842, -0.016544, -0.003738,  0.003752],\n",
       "       [-0.003087, -0.000344, -0.033391,  0.007123,  0.004597],\n",
       "       [-0.024112,  0.011704, -0.029563, -0.01457 ,  0.016129]])"
      ]
     },
     "execution_count": 53,
     "metadata": {},
     "output_type": "execute_result"
    }
   ],
   "source": [
    "stock_return"
   ]
  },
  {
   "cell_type": "code",
   "execution_count": 54,
   "metadata": {},
   "outputs": [],
   "source": [
    "one_stock=np.ones_like(stock_return)"
   ]
  },
  {
   "cell_type": "code",
   "execution_count": 55,
   "metadata": {},
   "outputs": [
    {
     "data": {
      "text/plain": [
       "array([[1., 1., 1., 1., 1.],\n",
       "       [1., 1., 1., 1., 1.],\n",
       "       [1., 1., 1., 1., 1.],\n",
       "       [1., 1., 1., 1., 1.]])"
      ]
     },
     "execution_count": 55,
     "metadata": {},
     "output_type": "execute_result"
    }
   ],
   "source": [
    "one_stock"
   ]
  },
  {
   "cell_type": "code",
   "execution_count": 57,
   "metadata": {},
   "outputs": [
    {
     "data": {
      "text/plain": [
       "array([[1., 1., 1., 1., 1., 1.],\n",
       "       [1., 1., 1., 1., 1., 1.],\n",
       "       [1., 1., 1., 1., 1., 1.],\n",
       "       [1., 1., 1., 1., 1., 1.],\n",
       "       [1., 1., 1., 1., 1., 1.]])"
      ]
     },
     "execution_count": 57,
     "metadata": {},
     "output_type": "execute_result"
    }
   ],
   "source": [
    "np.ones([5,6])"
   ]
  },
  {
   "cell_type": "markdown",
   "metadata": {},
   "source": [
    "#### 5、创建单位矩阵"
   ]
  },
  {
   "cell_type": "code",
   "execution_count": 59,
   "metadata": {},
   "outputs": [
    {
     "data": {
      "text/plain": [
       "array([[1., 0., 0., 0., 0.],\n",
       "       [0., 1., 0., 0., 0.],\n",
       "       [0., 0., 1., 0., 0.],\n",
       "       [0., 0., 0., 1., 0.],\n",
       "       [0., 0., 0., 0., 1.]])"
      ]
     },
     "execution_count": 59,
     "metadata": {},
     "output_type": "execute_result"
    }
   ],
   "source": [
    "np.eye(5)"
   ]
  },
  {
   "cell_type": "markdown",
   "metadata": {},
   "source": [
    "### 3.4 数组的索引、切片和排序"
   ]
  },
  {
   "cell_type": "markdown",
   "metadata": {},
   "source": [
    "#### 1. 索引"
   ]
  },
  {
   "cell_type": "markdown",
   "metadata": {},
   "source": [
    "* 投资者希望找到工商银行这个股票在2018年9月5日的涨跌幅"
   ]
  },
  {
   "cell_type": "code",
   "execution_count": 61,
   "metadata": {},
   "outputs": [
    {
     "data": {
      "text/plain": [
       "array([[ 0.003731,  0.021066, -0.004854,  0.006098, -0.00606 ],\n",
       "       [-0.001838,  0.001842, -0.016544, -0.003738,  0.003752],\n",
       "       [-0.003087, -0.000344, -0.033391,  0.007123,  0.004597],\n",
       "       [-0.024112,  0.011704, -0.029563, -0.01457 ,  0.016129]])"
      ]
     },
     "execution_count": 61,
     "metadata": {},
     "output_type": "execute_result"
    }
   ],
   "source": [
    "stock_return"
   ]
  },
  {
   "cell_type": "code",
   "execution_count": 62,
   "metadata": {},
   "outputs": [
    {
     "data": {
      "text/plain": [
       "-0.016544"
      ]
     },
     "execution_count": 62,
     "metadata": {},
     "output_type": "execute_result"
    }
   ],
   "source": [
    "stock_return[1,2]"
   ]
  },
  {
   "cell_type": "markdown",
   "metadata": {},
   "source": [
    "* 投资者希望找到涨跌幅低于-1%的数据所在数组中的索引值"
   ]
  },
  {
   "cell_type": "code",
   "execution_count": 63,
   "metadata": {},
   "outputs": [
    {
     "data": {
      "text/plain": [
       "(array([1, 2, 3, 3, 3]), array([2, 2, 0, 2, 3]))"
      ]
     },
     "execution_count": 63,
     "metadata": {},
     "output_type": "execute_result"
    }
   ],
   "source": [
    "np.where(stock_return<-0.01)"
   ]
  },
  {
   "cell_type": "markdown",
   "metadata": {},
   "source": [
    "第一个代表第几行，第二个代表第几列"
   ]
  },
  {
   "cell_type": "markdown",
   "metadata": {},
   "source": [
    "#### 2. 切片"
   ]
  },
  {
   "cell_type": "markdown",
   "metadata": {},
   "source": [
    "* 投资者希望提取上汽集团、宝钢股份在2018年9月4日至9月6日的涨跌幅数据"
   ]
  },
  {
   "cell_type": "code",
   "execution_count": 64,
   "metadata": {},
   "outputs": [
    {
     "data": {
      "text/plain": [
       "array([[-0.000344, -0.033391,  0.007123],\n",
       "       [ 0.011704, -0.029563, -0.01457 ]])"
      ]
     },
     "execution_count": 64,
     "metadata": {},
     "output_type": "execute_result"
    }
   ],
   "source": [
    "stock_return[2:,1:4]"
   ]
  },
  {
   "cell_type": "markdown",
   "metadata": {},
   "source": [
    "* 投资者希望分别提取第二行的全部数据和第3列的全部数据"
   ]
  },
  {
   "cell_type": "code",
   "execution_count": 65,
   "metadata": {},
   "outputs": [
    {
     "data": {
      "text/plain": [
       "array([-0.001838,  0.001842, -0.016544, -0.003738,  0.003752])"
      ]
     },
     "execution_count": 65,
     "metadata": {},
     "output_type": "execute_result"
    }
   ],
   "source": [
    "stock_return[1] #提取第2行的全部数据"
   ]
  },
  {
   "cell_type": "code",
   "execution_count": 67,
   "metadata": {},
   "outputs": [
    {
     "data": {
      "text/plain": [
       "array([-0.004854, -0.016544, -0.033391, -0.029563])"
      ]
     },
     "execution_count": 67,
     "metadata": {},
     "output_type": "execute_result"
    }
   ],
   "source": [
    "stock_return[:,2] #提取第3列的全部数据"
   ]
  },
  {
   "cell_type": "markdown",
   "metadata": {},
   "source": [
    "#### 3. 排序"
   ]
  },
  {
   "cell_type": "markdown",
   "metadata": {},
   "source": [
    "投资者通常会非常关心股票的涨跌幅大小情况，为了区分大小，一种最便捷的方法就是将数据按照由小到大的顺序进行排序"
   ]
  },
  {
   "cell_type": "markdown",
   "metadata": {},
   "source": [
    "* 投资者希望针对股票按照日涨跌幅进行排序"
   ]
  },
  {
   "cell_type": "code",
   "execution_count": 69,
   "metadata": {},
   "outputs": [
    {
     "data": {
      "text/plain": [
       "array([[-0.024112, -0.000344, -0.033391, -0.01457 , -0.00606 ],\n",
       "       [-0.003087,  0.001842, -0.029563, -0.003738,  0.003752],\n",
       "       [-0.001838,  0.011704, -0.016544,  0.006098,  0.004597],\n",
       "       [ 0.003731,  0.021066, -0.004854,  0.007123,  0.016129]])"
      ]
     },
     "execution_count": 69,
     "metadata": {},
     "output_type": "execute_result"
    }
   ],
   "source": [
    "np.sort(stock_return,axis=0) #按列对元素由小到大排序"
   ]
  },
  {
   "cell_type": "code",
   "execution_count": 70,
   "metadata": {},
   "outputs": [
    {
     "data": {
      "text/plain": [
       "array([[-0.00606 , -0.004854,  0.003731,  0.006098,  0.021066],\n",
       "       [-0.016544, -0.003738, -0.001838,  0.001842,  0.003752],\n",
       "       [-0.033391, -0.003087, -0.000344,  0.004597,  0.007123],\n",
       "       [-0.029563, -0.024112, -0.01457 ,  0.011704,  0.016129]])"
      ]
     },
     "execution_count": 70,
     "metadata": {},
     "output_type": "execute_result"
    }
   ],
   "source": [
    "np.sort(stock_return,axis=1) #按行对元素由小到大排序"
   ]
  },
  {
   "cell_type": "code",
   "execution_count": 71,
   "metadata": {},
   "outputs": [
    {
     "data": {
      "text/plain": [
       "array([[-0.00606 , -0.004854,  0.003731,  0.006098,  0.021066],\n",
       "       [-0.016544, -0.003738, -0.001838,  0.001842,  0.003752],\n",
       "       [-0.033391, -0.003087, -0.000344,  0.004597,  0.007123],\n",
       "       [-0.029563, -0.024112, -0.01457 ,  0.011704,  0.016129]])"
      ]
     },
     "execution_count": 71,
     "metadata": {},
     "output_type": "execute_result"
    }
   ],
   "source": [
    "np.sort(stock_return) #按行对元素由小到大排序"
   ]
  },
  {
   "cell_type": "code",
   "execution_count": 72,
   "metadata": {},
   "outputs": [
    {
     "data": {
      "text/plain": [
       "array([[ 0.003731,  0.021066, -0.004854,  0.006098, -0.00606 ],\n",
       "       [-0.001838,  0.001842, -0.016544, -0.003738,  0.003752],\n",
       "       [-0.003087, -0.000344, -0.033391,  0.007123,  0.004597],\n",
       "       [-0.024112,  0.011704, -0.029563, -0.01457 ,  0.016129]])"
      ]
     },
     "execution_count": 72,
     "metadata": {},
     "output_type": "execute_result"
    }
   ],
   "source": [
    "stock_return"
   ]
  },
  {
   "cell_type": "markdown",
   "metadata": {},
   "source": [
    "### 3.5 数组的相关运算"
   ]
  },
  {
   "cell_type": "markdown",
   "metadata": {},
   "source": [
    "#### 1.数组内的运算"
   ]
  },
  {
   "cell_type": "markdown",
   "metadata": {},
   "source": [
    "* 假定投资者需要计算2018年9月3日至9月7日这5个交易日中，相关股票的平均涨跌幅、累积涨跌幅、最大或者最小涨跌幅等指标"
   ]
  },
  {
   "cell_type": "markdown",
   "metadata": {},
   "source": [
    "* 求和"
   ]
  },
  {
   "cell_type": "code",
   "execution_count": 74,
   "metadata": {},
   "outputs": [
    {
     "data": {
      "text/plain": [
       "array([-0.025306,  0.034268, -0.084352, -0.005087,  0.018418])"
      ]
     },
     "execution_count": 74,
     "metadata": {},
     "output_type": "execute_result"
    }
   ],
   "source": [
    "stock_return.sum(axis=0) #按列求和"
   ]
  },
  {
   "cell_type": "code",
   "execution_count": 75,
   "metadata": {},
   "outputs": [
    {
     "data": {
      "text/plain": [
       "array([ 0.019981, -0.016526, -0.025102, -0.040412])"
      ]
     },
     "execution_count": 75,
     "metadata": {},
     "output_type": "execute_result"
    }
   ],
   "source": [
    "stock_return.sum(axis=1) #按行求和，计算得到每只股票5天的累积涨跌幅"
   ]
  },
  {
   "cell_type": "code",
   "execution_count": 76,
   "metadata": {},
   "outputs": [
    {
     "data": {
      "text/plain": [
       "-0.062059"
      ]
     },
     "execution_count": 76,
     "metadata": {},
     "output_type": "execute_result"
    }
   ],
   "source": [
    "stock_return.sum()  #全部元素之和"
   ]
  },
  {
   "cell_type": "markdown",
   "metadata": {},
   "source": [
    "* 求乘积"
   ]
  },
  {
   "cell_type": "code",
   "execution_count": 77,
   "metadata": {},
   "outputs": [
    {
     "data": {
      "text/plain": [
       "array([-5.10435205e-10, -1.56230010e-10,  7.92717092e-08,  2.36564304e-09,\n",
       "       -1.68584406e-09])"
      ]
     },
     "execution_count": 77,
     "metadata": {},
     "output_type": "execute_result"
    }
   ],
   "source": [
    "stock_return.prod(axis=0) #按列求乘积"
   ]
  },
  {
   "cell_type": "code",
   "execution_count": 78,
   "metadata": {},
   "outputs": [
    {
     "data": {
      "text/plain": [
       "array([ 1.40983129e-11, -7.85557141e-13, -1.16107947e-12, -1.96057312e-09])"
      ]
     },
     "execution_count": 78,
     "metadata": {},
     "output_type": "execute_result"
    }
   ],
   "source": [
    "stock_return.prod(axis=1) #按行求乘积"
   ]
  },
  {
   "cell_type": "code",
   "execution_count": 79,
   "metadata": {},
   "outputs": [
    {
     "data": {
      "text/plain": [
       "-2.521099098076826e-44"
      ]
     },
     "execution_count": 79,
     "metadata": {},
     "output_type": "execute_result"
    }
   ],
   "source": [
    "stock_return.prod() #全部元素之积"
   ]
  },
  {
   "cell_type": "markdown",
   "metadata": {},
   "source": [
    "* 求最值"
   ]
  },
  {
   "cell_type": "code",
   "execution_count": 80,
   "metadata": {},
   "outputs": [
    {
     "data": {
      "text/plain": [
       "array([ 0.003731,  0.021066, -0.004854,  0.007123,  0.016129])"
      ]
     },
     "execution_count": 80,
     "metadata": {},
     "output_type": "execute_result"
    }
   ],
   "source": [
    "stock_return.max(axis=0) #按列求最大值"
   ]
  },
  {
   "cell_type": "code",
   "execution_count": 81,
   "metadata": {},
   "outputs": [
    {
     "data": {
      "text/plain": [
       "array([0.021066, 0.003752, 0.007123, 0.016129])"
      ]
     },
     "execution_count": 81,
     "metadata": {},
     "output_type": "execute_result"
    }
   ],
   "source": [
    "stock_return.max(axis=1) #按行求最大值"
   ]
  },
  {
   "cell_type": "code",
   "execution_count": 82,
   "metadata": {},
   "outputs": [
    {
     "data": {
      "text/plain": [
       "0.021066"
      ]
     },
     "execution_count": 82,
     "metadata": {},
     "output_type": "execute_result"
    }
   ],
   "source": [
    "stock_return.max() #求全部元素最大值"
   ]
  },
  {
   "cell_type": "code",
   "execution_count": 83,
   "metadata": {},
   "outputs": [
    {
     "data": {
      "text/plain": [
       "array([-0.024112, -0.000344, -0.033391, -0.01457 , -0.00606 ])"
      ]
     },
     "execution_count": 83,
     "metadata": {},
     "output_type": "execute_result"
    }
   ],
   "source": [
    "stock_return.min(axis=0) #按列求最小值"
   ]
  },
  {
   "cell_type": "code",
   "execution_count": 84,
   "metadata": {},
   "outputs": [
    {
     "data": {
      "text/plain": [
       "array([-0.00606 , -0.016544, -0.033391, -0.029563])"
      ]
     },
     "execution_count": 84,
     "metadata": {},
     "output_type": "execute_result"
    }
   ],
   "source": [
    "stock_return.min(axis=1) #按行求最小值"
   ]
  },
  {
   "cell_type": "code",
   "execution_count": 85,
   "metadata": {},
   "outputs": [
    {
     "data": {
      "text/plain": [
       "-0.033391"
      ]
     },
     "execution_count": 85,
     "metadata": {},
     "output_type": "execute_result"
    }
   ],
   "source": [
    "stock_return.min() #求全部元素最小值"
   ]
  },
  {
   "cell_type": "markdown",
   "metadata": {},
   "source": [
    "* 求均值"
   ]
  },
  {
   "cell_type": "code",
   "execution_count": 86,
   "metadata": {},
   "outputs": [
    {
     "data": {
      "text/plain": [
       "array([-0.0063265 ,  0.008567  , -0.021088  , -0.00127175,  0.0046045 ])"
      ]
     },
     "execution_count": 86,
     "metadata": {},
     "output_type": "execute_result"
    }
   ],
   "source": [
    "stock_return.mean(axis=0) #按列求平均值"
   ]
  },
  {
   "cell_type": "code",
   "execution_count": 87,
   "metadata": {},
   "outputs": [
    {
     "data": {
      "text/plain": [
       "array([ 0.0039962, -0.0033052, -0.0050204, -0.0080824])"
      ]
     },
     "execution_count": 87,
     "metadata": {},
     "output_type": "execute_result"
    }
   ],
   "source": [
    "stock_return.mean(axis=1) #按行求平均值"
   ]
  },
  {
   "cell_type": "code",
   "execution_count": 88,
   "metadata": {},
   "outputs": [
    {
     "data": {
      "text/plain": [
       "-0.00310295"
      ]
     },
     "execution_count": 88,
     "metadata": {},
     "output_type": "execute_result"
    }
   ],
   "source": [
    "stock_return.mean() #求全部元素的平均值"
   ]
  },
  {
   "cell_type": "markdown",
   "metadata": {},
   "source": [
    "* 求方差和标准差"
   ]
  },
  {
   "cell_type": "code",
   "execution_count": 89,
   "metadata": {},
   "outputs": [
    {
     "data": {
      "text/plain": [
       "array([1.12029577e-04, 7.26743290e-05, 1.26845031e-04, 7.69277212e-05,\n",
       "       6.18181183e-05])"
      ]
     },
     "execution_count": 89,
     "metadata": {},
     "output_type": "execute_result"
    }
   ],
   "source": [
    "stock_return.var(axis=0) #按列求方差"
   ]
  },
  {
   "cell_type": "code",
   "execution_count": 90,
   "metadata": {},
   "outputs": [
    {
     "data": {
      "text/plain": [
       "array([9.50638330e-05, 5.07807114e-05, 2.14090849e-04, 3.47629344e-04])"
      ]
     },
     "execution_count": 90,
     "metadata": {},
     "output_type": "execute_result"
    }
   ],
   "source": [
    "stock_return.var(axis=1) #按行求方差"
   ]
  },
  {
   "cell_type": "code",
   "execution_count": 91,
   "metadata": {},
   "outputs": [
    {
     "data": {
      "text/plain": [
       "0.0001966187774475"
      ]
     },
     "execution_count": 91,
     "metadata": {},
     "output_type": "execute_result"
    }
   ],
   "source": [
    "stock_return.var() #求全部元素的方差"
   ]
  },
  {
   "cell_type": "code",
   "execution_count": 92,
   "metadata": {},
   "outputs": [
    {
     "data": {
      "text/plain": [
       "array([0.0105844 , 0.00852492, 0.01126255, 0.00877084, 0.00786245])"
      ]
     },
     "execution_count": 92,
     "metadata": {},
     "output_type": "execute_result"
    }
   ],
   "source": [
    "stock_return.std(axis=0) #按列求标准差"
   ]
  },
  {
   "cell_type": "code",
   "execution_count": 93,
   "metadata": {},
   "outputs": [
    {
     "data": {
      "text/plain": [
       "array([0.00975007, 0.00712606, 0.01463184, 0.01864482])"
      ]
     },
     "execution_count": 93,
     "metadata": {},
     "output_type": "execute_result"
    }
   ],
   "source": [
    "stock_return.std(axis=1) #按行求标准差"
   ]
  },
  {
   "cell_type": "code",
   "execution_count": 94,
   "metadata": {},
   "outputs": [
    {
     "data": {
      "text/plain": [
       "0.014022081780088862"
      ]
     },
     "execution_count": 94,
     "metadata": {},
     "output_type": "execute_result"
    }
   ],
   "source": [
    "stock_return.std() #全部元素求标准差"
   ]
  },
  {
   "cell_type": "markdown",
   "metadata": {},
   "source": [
    "* 幂运算"
   ]
  },
  {
   "cell_type": "code",
   "execution_count": 95,
   "metadata": {},
   "outputs": [
    {
     "name": "stderr",
     "output_type": "stream",
     "text": [
      "//anaconda3/lib/python3.7/site-packages/ipykernel_launcher.py:1: RuntimeWarning: invalid value encountered in sqrt\n",
      "  \"\"\"Entry point for launching an IPython kernel.\n"
     ]
    },
    {
     "data": {
      "text/plain": [
       "array([[0.06108191, 0.14514131,        nan, 0.07808969,        nan],\n",
       "       [       nan, 0.04291853,        nan,        nan, 0.06125357],\n",
       "       [       nan,        nan,        nan, 0.08439787, 0.06780118],\n",
       "       [       nan, 0.10818503,        nan,        nan, 0.127     ]])"
      ]
     },
     "execution_count": 95,
     "metadata": {},
     "output_type": "execute_result"
    }
   ],
   "source": [
    "np.sqrt(stock_return) #对每个元素计算开方"
   ]
  },
  {
   "cell_type": "markdown",
   "metadata": {},
   "source": [
    "由于开方仅适用于正数，因此，负数的开方在python中显示为nan，表示无解"
   ]
  },
  {
   "cell_type": "code",
   "execution_count": 96,
   "metadata": {},
   "outputs": [
    {
     "data": {
      "text/plain": [
       "array([[1.39203610e-05, 4.43776356e-04, 2.35613160e-05, 3.71856040e-05,\n",
       "        3.67236000e-05],\n",
       "       [3.37824400e-06, 3.39296400e-06, 2.73703936e-04, 1.39726440e-05,\n",
       "        1.40775040e-05],\n",
       "       [9.52956900e-06, 1.18336000e-07, 1.11495888e-03, 5.07371290e-05,\n",
       "        2.11324090e-05],\n",
       "       [5.81388544e-04, 1.36983616e-04, 8.73970969e-04, 2.12284900e-04,\n",
       "        2.60144641e-04]])"
      ]
     },
     "execution_count": 96,
     "metadata": {},
     "output_type": "execute_result"
    }
   ],
   "source": [
    "np.square(stock_return) #对每个元素计算平方"
   ]
  },
  {
   "cell_type": "code",
   "execution_count": 97,
   "metadata": {},
   "outputs": [
    {
     "data": {
      "text/plain": [
       "array([[1.00373797, 1.02128945, 0.99515776, 1.00611663, 0.99395832],\n",
       "       [0.99816369, 1.0018437 , 0.9835921 , 0.99626898, 1.00375905],\n",
       "       [0.99691776, 0.99965606, 0.96716033, 1.00714843, 1.00460758],\n",
       "       [0.97617637, 1.01177276, 0.97086971, 0.98553563, 1.01625977]])"
      ]
     },
     "execution_count": 97,
     "metadata": {},
     "output_type": "execute_result"
    }
   ],
   "source": [
    "np.exp(stock_return) #对每个元素计算以e为底的指数次方"
   ]
  },
  {
   "cell_type": "markdown",
   "metadata": {},
   "source": [
    "* 对数运算"
   ]
  },
  {
   "cell_type": "code",
   "execution_count": 98,
   "metadata": {},
   "outputs": [
    {
     "name": "stderr",
     "output_type": "stream",
     "text": [
      "//anaconda3/lib/python3.7/site-packages/ipykernel_launcher.py:1: RuntimeWarning: invalid value encountered in log\n",
      "  \"\"\"Entry point for launching an IPython kernel.\n"
     ]
    },
    {
     "data": {
      "text/plain": [
       "array([[-5.59107898, -3.86009491,         nan, -5.09979443,         nan],\n",
       "       [        nan, -6.29690334,         nan,         nan, -5.58546625],\n",
       "       [        nan,         nan,         nan, -4.94442629, -5.38235136],\n",
       "       [        nan, -4.44782462,         nan,         nan, -4.12713639]])"
      ]
     },
     "execution_count": 98,
     "metadata": {},
     "output_type": "execute_result"
    }
   ],
   "source": [
    "np.log(stock_return) #对每个元素计算自然对数"
   ]
  },
  {
   "cell_type": "markdown",
   "metadata": {},
   "source": [
    "由于开方仅适用于正数，因此，负数的开方在python中显示为nan，表示无解"
   ]
  },
  {
   "cell_type": "code",
   "execution_count": 99,
   "metadata": {},
   "outputs": [
    {
     "name": "stderr",
     "output_type": "stream",
     "text": [
      "//anaconda3/lib/python3.7/site-packages/ipykernel_launcher.py:1: RuntimeWarning: invalid value encountered in log10\n",
      "  \"\"\"Entry point for launching an IPython kernel.\n"
     ]
    },
    {
     "data": {
      "text/plain": [
       "array([[-2.42817475, -1.67641792,         nan, -2.21481258,         nan],\n",
       "       [        nan, -2.73471037,         nan,         nan, -2.42573717],\n",
       "       [        nan,         nan,         nan, -2.14733706, -2.3375255 ],\n",
       "       [        nan, -1.93166569,         nan,         nan, -1.79239256]])"
      ]
     },
     "execution_count": 99,
     "metadata": {},
     "output_type": "execute_result"
    }
   ],
   "source": [
    "np.log10(stock_return) #对每个元素计算底数10的对数"
   ]
  },
  {
   "cell_type": "code",
   "execution_count": 100,
   "metadata": {},
   "outputs": [
    {
     "name": "stderr",
     "output_type": "stream",
     "text": [
      "//anaconda3/lib/python3.7/site-packages/ipykernel_launcher.py:1: RuntimeWarning: invalid value encountered in log2\n",
      "  \"\"\"Entry point for launching an IPython kernel.\n"
     ]
    },
    {
     "data": {
      "text/plain": [
       "array([[-8.06622192, -5.56893979,         nan, -7.35744813,         nan],\n",
       "       [        nan, -9.08451122,         nan,         nan, -8.05812446],\n",
       "       [        nan,         nan,         nan, -7.13329929, -7.76509162],\n",
       "       [        nan, -6.41685452,         nan,         nan, -5.9541992 ]])"
      ]
     },
     "execution_count": 100,
     "metadata": {},
     "output_type": "execute_result"
    }
   ],
   "source": [
    "np.log2(stock_return) #对每个元素计算底数2的对数"
   ]
  },
  {
   "cell_type": "markdown",
   "metadata": {},
   "source": [
    "#### 2. 数组间的运算"
   ]
  },
  {
   "cell_type": "code",
   "execution_count": 101,
   "metadata": {},
   "outputs": [
    {
     "data": {
      "text/plain": [
       "array([[ 0.003731,  0.021066, -0.004854,  0.006098, -0.00606 ],\n",
       "       [-0.001838,  0.001842, -0.016544, -0.003738,  0.003752],\n",
       "       [-0.003087, -0.000344, -0.033391,  0.007123,  0.004597],\n",
       "       [-0.024112,  0.011704, -0.029563, -0.01457 ,  0.016129]])"
      ]
     },
     "execution_count": 101,
     "metadata": {},
     "output_type": "execute_result"
    }
   ],
   "source": [
    "stock_return"
   ]
  },
  {
   "cell_type": "code",
   "execution_count": 102,
   "metadata": {},
   "outputs": [
    {
     "data": {
      "text/plain": [
       "array([[1., 1., 1., 1., 1.],\n",
       "       [1., 1., 1., 1., 1.],\n",
       "       [1., 1., 1., 1., 1.],\n",
       "       [1., 1., 1., 1., 1.]])"
      ]
     },
     "execution_count": 102,
     "metadata": {},
     "output_type": "execute_result"
    }
   ],
   "source": [
    "one_stock"
   ]
  },
  {
   "cell_type": "code",
   "execution_count": 108,
   "metadata": {},
   "outputs": [],
   "source": [
    "new_array1=stock_return+one_stock #两个数组相加"
   ]
  },
  {
   "cell_type": "code",
   "execution_count": 109,
   "metadata": {},
   "outputs": [
    {
     "data": {
      "text/plain": [
       "array([[1.003731, 1.021066, 0.995146, 1.006098, 0.99394 ],\n",
       "       [0.998162, 1.001842, 0.983456, 0.996262, 1.003752],\n",
       "       [0.996913, 0.999656, 0.966609, 1.007123, 1.004597],\n",
       "       [0.975888, 1.011704, 0.970437, 0.98543 , 1.016129]])"
      ]
     },
     "execution_count": 109,
     "metadata": {},
     "output_type": "execute_result"
    }
   ],
   "source": [
    "new_array1"
   ]
  },
  {
   "cell_type": "code",
   "execution_count": 117,
   "metadata": {},
   "outputs": [],
   "source": [
    "new_array2=stock_return-one_stock #两个数组相减"
   ]
  },
  {
   "cell_type": "code",
   "execution_count": 118,
   "metadata": {},
   "outputs": [
    {
     "data": {
      "text/plain": [
       "array([[-0.996269, -0.978934, -1.004854, -0.993902, -1.00606 ],\n",
       "       [-1.001838, -0.998158, -1.016544, -1.003738, -0.996248],\n",
       "       [-1.003087, -1.000344, -1.033391, -0.992877, -0.995403],\n",
       "       [-1.024112, -0.988296, -1.029563, -1.01457 , -0.983871]])"
      ]
     },
     "execution_count": 118,
     "metadata": {},
     "output_type": "execute_result"
    }
   ],
   "source": [
    "new_array2"
   ]
  },
  {
   "cell_type": "code",
   "execution_count": 119,
   "metadata": {},
   "outputs": [],
   "source": [
    "new_array3=new_array1*new_array2 #两个数组相乘"
   ]
  },
  {
   "cell_type": "code",
   "execution_count": 120,
   "metadata": {},
   "outputs": [
    {
     "data": {
      "text/plain": [
       "array([[-0.99998608, -0.99955622, -0.99997644, -0.99996281, -0.99996328],\n",
       "       [-0.99999662, -0.99999661, -0.9997263 , -0.99998603, -0.99998592],\n",
       "       [-0.99999047, -0.99999988, -0.99888504, -0.99994926, -0.99997887],\n",
       "       [-0.99941861, -0.99986302, -0.99912603, -0.99978772, -0.99973986]])"
      ]
     },
     "execution_count": 120,
     "metadata": {},
     "output_type": "execute_result"
    }
   ],
   "source": [
    "new_array3"
   ]
  },
  {
   "cell_type": "code",
   "execution_count": 121,
   "metadata": {},
   "outputs": [],
   "source": [
    "new_array4=new_array1/new_array2 #两个数组相除"
   ]
  },
  {
   "cell_type": "code",
   "execution_count": 122,
   "metadata": {},
   "outputs": [
    {
     "data": {
      "text/plain": [
       "array([[-1.00748994, -1.04303865, -0.9903389 , -1.01227083, -0.987953  ],\n",
       "       [-0.99633074, -1.0036908 , -0.9674505 , -0.99255184, -1.00753226],\n",
       "       [-0.993845  , -0.99931224, -0.93537586, -1.0143482 , -1.00923646],\n",
       "       [-0.9529114 , -1.02368521, -0.94257175, -0.97127847, -1.03278682]])"
      ]
     },
     "execution_count": 122,
     "metadata": {},
     "output_type": "execute_result"
    }
   ],
   "source": [
    "new_array4"
   ]
  },
  {
   "cell_type": "code",
   "execution_count": 123,
   "metadata": {},
   "outputs": [],
   "source": [
    "new_array5=new_array1**new_array2 #两个数组之间的幂运算"
   ]
  },
  {
   "cell_type": "code",
   "execution_count": 124,
   "metadata": {},
   "outputs": [
    {
     "data": {
      "text/plain": [
       "array([[0.99629671, 0.97979882, 1.00490141, 0.99397581, 1.00613401],\n",
       "       [1.00184477, 0.99816477, 1.01710298, 1.00376608, 0.99627602],\n",
       "       [1.00310613, 1.00034424, 1.03571831, 0.99297758, 0.99544502],\n",
       "       [1.02531098, 0.98856602, 1.03137818, 1.01500246, 0.98438102]])"
      ]
     },
     "execution_count": 124,
     "metadata": {},
     "output_type": "execute_result"
    }
   ],
   "source": [
    "new_array5"
   ]
  },
  {
   "cell_type": "code",
   "execution_count": 125,
   "metadata": {},
   "outputs": [
    {
     "data": {
      "text/plain": [
       "array([[1.003731, 1.021066, 0.995146, 1.006098, 0.99394 ],\n",
       "       [0.998162, 1.001842, 0.983456, 0.996262, 1.003752],\n",
       "       [0.996913, 0.999656, 0.966609, 1.007123, 1.004597],\n",
       "       [0.975888, 1.011704, 0.970437, 0.98543 , 1.016129]])"
      ]
     },
     "execution_count": 125,
     "metadata": {},
     "output_type": "execute_result"
    }
   ],
   "source": [
    "stock_return+1 #数组内每个元素均加上1"
   ]
  },
  {
   "cell_type": "code",
   "execution_count": 126,
   "metadata": {},
   "outputs": [
    {
     "data": {
      "text/plain": [
       "array([[-0.996269, -0.978934, -1.004854, -0.993902, -1.00606 ],\n",
       "       [-1.001838, -0.998158, -1.016544, -1.003738, -0.996248],\n",
       "       [-1.003087, -1.000344, -1.033391, -0.992877, -0.995403],\n",
       "       [-1.024112, -0.988296, -1.029563, -1.01457 , -0.983871]])"
      ]
     },
     "execution_count": 126,
     "metadata": {},
     "output_type": "execute_result"
    }
   ],
   "source": [
    "stock_return-1 #数组内每个元素均减去1"
   ]
  },
  {
   "cell_type": "code",
   "execution_count": 127,
   "metadata": {},
   "outputs": [
    {
     "data": {
      "text/plain": [
       "array([[ 0.007462,  0.042132, -0.009708,  0.012196, -0.01212 ],\n",
       "       [-0.003676,  0.003684, -0.033088, -0.007476,  0.007504],\n",
       "       [-0.006174, -0.000688, -0.066782,  0.014246,  0.009194],\n",
       "       [-0.048224,  0.023408, -0.059126, -0.02914 ,  0.032258]])"
      ]
     },
     "execution_count": 127,
     "metadata": {},
     "output_type": "execute_result"
    }
   ],
   "source": [
    "stock_return*2  #数组内每个元素均乘以2"
   ]
  },
  {
   "cell_type": "code",
   "execution_count": 128,
   "metadata": {},
   "outputs": [
    {
     "data": {
      "text/plain": [
       "array([[ 0.0018655,  0.010533 , -0.002427 ,  0.003049 , -0.00303  ],\n",
       "       [-0.000919 ,  0.000921 , -0.008272 , -0.001869 ,  0.001876 ],\n",
       "       [-0.0015435, -0.000172 , -0.0166955,  0.0035615,  0.0022985],\n",
       "       [-0.012056 ,  0.005852 , -0.0147815, -0.007285 ,  0.0080645]])"
      ]
     },
     "execution_count": 128,
     "metadata": {},
     "output_type": "execute_result"
    }
   ],
   "source": [
    "stock_return/2  #数组内每个元素均除以2"
   ]
  },
  {
   "cell_type": "code",
   "execution_count": 129,
   "metadata": {},
   "outputs": [
    {
     "data": {
      "text/plain": [
       "array([[1.39203610e-05, 4.43776356e-04, 2.35613160e-05, 3.71856040e-05,\n",
       "        3.67236000e-05],\n",
       "       [3.37824400e-06, 3.39296400e-06, 2.73703936e-04, 1.39726440e-05,\n",
       "        1.40775040e-05],\n",
       "       [9.52956900e-06, 1.18336000e-07, 1.11495888e-03, 5.07371290e-05,\n",
       "        2.11324090e-05],\n",
       "       [5.81388544e-04, 1.36983616e-04, 8.73970969e-04, 2.12284900e-04,\n",
       "        2.60144641e-04]])"
      ]
     },
     "execution_count": 129,
     "metadata": {},
     "output_type": "execute_result"
    }
   ],
   "source": [
    "stock_return**2  #数组内每个元素均进行平方"
   ]
  },
  {
   "cell_type": "markdown",
   "metadata": {},
   "source": [
    "在金融分析中，经常会要求比较两个或者更多个形状相同数组之间对应元素的大小关系，并且由此生成包含最大元素或者最小元素的新数组"
   ]
  },
  {
   "cell_type": "code",
   "execution_count": 133,
   "metadata": {},
   "outputs": [
    {
     "data": {
      "text/plain": [
       "array([[1., 1., 1., 1., 1.],\n",
       "       [1., 1., 1., 1., 1.],\n",
       "       [1., 1., 1., 1., 1.],\n",
       "       [1., 1., 1., 1., 1.]])"
      ]
     },
     "execution_count": 133,
     "metadata": {},
     "output_type": "execute_result"
    }
   ],
   "source": [
    "np.maximum(stock_return,one_stock)  #生成由两个数组对应元素的最大值作为元素的新数组"
   ]
  },
  {
   "cell_type": "code",
   "execution_count": 134,
   "metadata": {},
   "outputs": [
    {
     "data": {
      "text/plain": [
       "array([[ 0.003731,  0.021066, -0.004854,  0.006098, -0.00606 ],\n",
       "       [-0.001838,  0.001842, -0.016544, -0.003738,  0.003752],\n",
       "       [-0.003087, -0.000344, -0.033391,  0.007123,  0.004597],\n",
       "       [-0.024112,  0.011704, -0.029563, -0.01457 ,  0.016129]])"
      ]
     },
     "execution_count": 134,
     "metadata": {},
     "output_type": "execute_result"
    }
   ],
   "source": [
    "np.minimum(stock_return,one_stock) #生成由两个数组对应元素的最小值作为元素的新数组"
   ]
  },
  {
   "cell_type": "markdown",
   "metadata": {},
   "source": [
    "#### 3. 矩阵的操作"
   ]
  },
  {
   "cell_type": "markdown",
   "metadata": {},
   "source": [
    "* 矩阵的性质"
   ]
  },
  {
   "cell_type": "code",
   "execution_count": 137,
   "metadata": {},
   "outputs": [],
   "source": [
    "corrcoef_return=np.corrcoef(stock_return) #计算相关4只股票涨跌幅的相关系数矩阵"
   ]
  },
  {
   "cell_type": "code",
   "execution_count": 136,
   "metadata": {},
   "outputs": [
    {
     "data": {
      "text/plain": [
       "array([[1.        , 0.38215651, 0.36338676, 0.30254781],\n",
       "       [0.38215651, 1.        , 0.89216018, 0.80740528],\n",
       "       [0.36338676, 0.89216018, 1.        , 0.60483848],\n",
       "       [0.30254781, 0.80740528, 0.60483848, 1.        ]])"
      ]
     },
     "execution_count": 136,
     "metadata": {},
     "output_type": "execute_result"
    }
   ],
   "source": [
    "corrcoef_return"
   ]
  },
  {
   "cell_type": "code",
   "execution_count": 139,
   "metadata": {},
   "outputs": [
    {
     "data": {
      "text/plain": [
       "array([1., 1., 1., 1.])"
      ]
     },
     "execution_count": 139,
     "metadata": {},
     "output_type": "execute_result"
    }
   ],
   "source": [
    "np.diag(corrcoef_return) #提取矩阵的对角线"
   ]
  },
  {
   "cell_type": "code",
   "execution_count": 140,
   "metadata": {},
   "outputs": [
    {
     "data": {
      "text/plain": [
       "array([[1.        , 0.38215651, 0.36338676, 0.30254781],\n",
       "       [0.        , 1.        , 0.89216018, 0.80740528],\n",
       "       [0.        , 0.        , 1.        , 0.60483848],\n",
       "       [0.        , 0.        , 0.        , 1.        ]])"
      ]
     },
     "execution_count": 140,
     "metadata": {},
     "output_type": "execute_result"
    }
   ],
   "source": [
    "np.triu(corrcoef_return) #提取矩阵上三角"
   ]
  },
  {
   "cell_type": "code",
   "execution_count": 141,
   "metadata": {},
   "outputs": [
    {
     "data": {
      "text/plain": [
       "array([[1.        , 0.        , 0.        , 0.        ],\n",
       "       [0.38215651, 1.        , 0.        , 0.        ],\n",
       "       [0.36338676, 0.89216018, 1.        , 0.        ],\n",
       "       [0.30254781, 0.80740528, 0.60483848, 1.        ]])"
      ]
     },
     "execution_count": 141,
     "metadata": {},
     "output_type": "execute_result"
    }
   ],
   "source": [
    "np.tril(corrcoef_return) #提取矩阵下三角"
   ]
  },
  {
   "cell_type": "code",
   "execution_count": 142,
   "metadata": {},
   "outputs": [
    {
     "data": {
      "text/plain": [
       "array([[1.        , 0.38215651, 0.36338676, 0.30254781],\n",
       "       [0.38215651, 1.        , 0.89216018, 0.80740528],\n",
       "       [0.36338676, 0.89216018, 1.        , 0.60483848],\n",
       "       [0.30254781, 0.80740528, 0.60483848, 1.        ]])"
      ]
     },
     "execution_count": 142,
     "metadata": {},
     "output_type": "execute_result"
    }
   ],
   "source": [
    "np.transpose(corrcoef_return) #转置矩阵"
   ]
  },
  {
   "cell_type": "code",
   "execution_count": 144,
   "metadata": {},
   "outputs": [
    {
     "data": {
      "text/plain": [
       "array([[1.        , 0.38215651, 0.36338676, 0.30254781],\n",
       "       [0.38215651, 1.        , 0.89216018, 0.80740528],\n",
       "       [0.36338676, 0.89216018, 1.        , 0.60483848],\n",
       "       [0.30254781, 0.80740528, 0.60483848, 1.        ]])"
      ]
     },
     "execution_count": 144,
     "metadata": {},
     "output_type": "execute_result"
    }
   ],
   "source": [
    "corrcoef_return.T #转置矩阵"
   ]
  },
  {
   "cell_type": "code",
   "execution_count": 145,
   "metadata": {},
   "outputs": [
    {
     "data": {
      "text/plain": [
       "4.0"
      ]
     },
     "execution_count": 145,
     "metadata": {},
     "output_type": "execute_result"
    }
   ],
   "source": [
    "np.trace(corrcoef_return) #矩阵的迹"
   ]
  },
  {
   "cell_type": "markdown",
   "metadata": {},
   "source": [
    "* 矩阵的运算"
   ]
  },
  {
   "cell_type": "markdown",
   "metadata": {},
   "source": [
    "按照每只股票在投资组合中的配置比例（权重）求出相应每个交易日投资组合的平均收益率，也就相当于求军政的内积"
   ]
  },
  {
   "cell_type": "code",
   "execution_count": 147,
   "metadata": {},
   "outputs": [],
   "source": [
    "average_return=np.dot(weight,stock_return)"
   ]
  },
  {
   "cell_type": "code",
   "execution_count": 148,
   "metadata": {},
   "outputs": [
    {
     "data": {
      "text/plain": [
       "array([-0.0102245 ,  0.0081239 , -0.02420985, -0.00388015,  0.00744225])"
      ]
     },
     "execution_count": 148,
     "metadata": {},
     "output_type": "execute_result"
    }
   ],
   "source": [
    "average_return"
   ]
  }
 ],
 "metadata": {
  "kernelspec": {
   "display_name": "Python 3",
   "language": "python",
   "name": "python3"
  },
  "language_info": {
   "codemirror_mode": {
    "name": "ipython",
    "version": 3
   },
   "file_extension": ".py",
   "mimetype": "text/x-python",
   "name": "python",
   "nbconvert_exporter": "python",
   "pygments_lexer": "ipython3",
   "version": "3.7.3"
  }
 },
 "nbformat": 4,
 "nbformat_minor": 2
}
