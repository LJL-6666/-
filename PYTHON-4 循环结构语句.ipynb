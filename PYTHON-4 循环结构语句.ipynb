{
 "cells": [
  {
   "cell_type": "markdown",
   "metadata": {},
   "source": [
    "### 9.1  for循环"
   ]
  },
  {
   "cell_type": "code",
   "execution_count": 1,
   "metadata": {},
   "outputs": [],
   "source": [
    "#for循环是一个计次循环，通常适用于枚举或遍历序列，以及迭代对象中的元素。一般应用次数已知的情况下。\n",
    "#语法如下：\n",
    "#for 迭代变量 in 对象：\n",
    "#    循环体"
   ]
  },
  {
   "cell_type": "markdown",
   "metadata": {},
   "source": [
    "#### 9.1.1进行数值循环"
   ]
  },
  {
   "cell_type": "code",
   "execution_count": 3,
   "metadata": {},
   "outputs": [
    {
     "name": "stdout",
     "output_type": "stream",
     "text": [
      "笑傲江湖\n",
      "笑傲江湖\n",
      "笑傲江湖\n"
     ]
    }
   ],
   "source": [
    "#案例1:\n",
    "for i in [1,2,3]:\n",
    "    print(\"笑傲江湖\")"
   ]
  },
  {
   "cell_type": "code",
   "execution_count": 4,
   "metadata": {},
   "outputs": [
    {
     "name": "stdout",
     "output_type": "stream",
     "text": [
      "明白\n",
      "科技\n",
      "与您\n",
      "同行\n"
     ]
    }
   ],
   "source": [
    "#案例2:\n",
    "for i in [\"明白\",\"科技\",\"与您\",\"同行\"]:\n",
    "    print(i)"
   ]
  },
  {
   "cell_type": "code",
   "execution_count": 5,
   "metadata": {},
   "outputs": [
    {
     "name": "stdout",
     "output_type": "stream",
     "text": [
      "明白\n",
      "科技\n",
      "与您\n",
      "同行\n"
     ]
    }
   ],
   "source": [
    "for i in (\"明白\",\"科技\",\"与您\",\"同行\"):\n",
    "    print(i)"
   ]
  },
  {
   "cell_type": "code",
   "execution_count": 6,
   "metadata": {},
   "outputs": [
    {
     "name": "stdout",
     "output_type": "stream",
     "text": [
      "科技\n",
      "与您\n",
      "明白\n",
      "同行\n"
     ]
    }
   ],
   "source": [
    "for i in {\"明白\",\"科技\",\"与您\",\"同行\"}:\n",
    "    print(i)"
   ]
  },
  {
   "cell_type": "code",
   "execution_count": 7,
   "metadata": {},
   "outputs": [
    {
     "name": "stdout",
     "output_type": "stream",
     "text": [
      "计算1+2+3+...+100的结果为：\n",
      "5050\n"
     ]
    }
   ],
   "source": [
    "#备注：利用列表能够输出一些简单的内容，但是如果循环次数过多，就要使用range函数\n",
    "#案例3：\n",
    "print(\"计算1+2+3+...+100的结果为：\")\n",
    "result=0\n",
    "for i in range(101):\n",
    "    result+=i\n",
    "print(result)"
   ]
  },
  {
   "cell_type": "code",
   "execution_count": 10,
   "metadata": {},
   "outputs": [],
   "source": [
    "#在上述代码中，加入了range()函数，这是python的内置函数，用于生成一系列连续的整数\n",
    "#range(start,end,step)\n",
    "#start:起始值，可以省略，省略的话从0开始\n",
    "#end:结束值，但是不包含，如range(7)表示0-7，不能省略，当 range()函数只有一个参数时，表示结束值。\n",
    "#step:默认步长1"
   ]
  },
  {
   "cell_type": "code",
   "execution_count": 16,
   "metadata": {},
   "outputs": [
    {
     "name": "stdout",
     "output_type": "stream",
     "text": [
      "1;3;5;7;9;"
     ]
    }
   ],
   "source": [
    "#案例4:\n",
    "for i in range(1,10,2):\n",
    "    print(i,end=';')"
   ]
  },
  {
   "cell_type": "code",
   "execution_count": 14,
   "metadata": {},
   "outputs": [
    {
     "name": "stdout",
     "output_type": "stream",
     "text": [
      "1\n",
      "3\n",
      "5\n",
      "7\n",
      "9\n"
     ]
    }
   ],
   "source": [
    "#案例5:\n",
    "for i in range(1,10,2):\n",
    "    print(i)"
   ]
  },
  {
   "cell_type": "code",
   "execution_count": 19,
   "metadata": {},
   "outputs": [
    {
     "name": "stdout",
     "output_type": "stream",
     "text": [
      "13579"
     ]
    }
   ],
   "source": [
    "#案例6:\n",
    "for i in range(1,10,2):\n",
    "    print(i,end=\"\")"
   ]
  },
  {
   "cell_type": "markdown",
   "metadata": {},
   "source": [
    "#### 9.1.2 遍历字符串"
   ]
  },
  {
   "cell_type": "code",
   "execution_count": 21,
   "metadata": {},
   "outputs": [
    {
     "name": "stdout",
     "output_type": "stream",
     "text": [
      "天道酬勤\n"
     ]
    }
   ],
   "source": [
    "#使用for循环语句除了可以循环数值，还可以逐个遍历字符串。\n",
    "string='天道酬勤'\n",
    "print(string)"
   ]
  },
  {
   "cell_type": "code",
   "execution_count": 22,
   "metadata": {},
   "outputs": [
    {
     "name": "stdout",
     "output_type": "stream",
     "text": [
      "天\n",
      "道\n",
      "酬\n",
      "勤\n"
     ]
    }
   ],
   "source": [
    "for a in string:\n",
    "    print(a)"
   ]
  },
  {
   "cell_type": "markdown",
   "metadata": {},
   "source": [
    "### 9.2  while循环"
   ]
  },
  {
   "cell_type": "code",
   "execution_count": 23,
   "metadata": {},
   "outputs": [],
   "source": [
    "#while循环是通过一个条件来控制是否要继续反复执行循环体中的语句。\n",
    "#语法如下：\n",
    "#while 条件表达式：\n",
    "#     循环体"
   ]
  },
  {
   "cell_type": "code",
   "execution_count": 24,
   "metadata": {},
   "outputs": [],
   "source": [
    "#案例7:体育老师要求学生沿着环形操场跑圈。要求当听到老师吹的哨子声时就停下来，同学每跑一圈，可能会请求一次老师吹哨子。如果老师吹哨子，\n",
    "#则停下来，即循环结束；否则继续跑步，即执行循环。"
   ]
  },
  {
   "cell_type": "code",
   "execution_count": 31,
   "metadata": {},
   "outputs": [
    {
     "name": "stdout",
     "output_type": "stream",
     "text": [
      "笑傲江湖\n",
      "笑傲江湖\n",
      "笑傲江湖\n"
     ]
    }
   ],
   "source": [
    "i=1\n",
    "while i<=3:\n",
    "    print(\"笑傲江湖\")\n",
    "    i=i+1"
   ]
  },
  {
   "cell_type": "code",
   "execution_count": null,
   "metadata": {},
   "outputs": [],
   "source": [
    "#案例8:取款机上取款时需要输入6位银行卡密码。下面模拟 一个简单的取款机（只有1位密码），\n",
    "#每次要求用户输入1位数字密码，密码正确输出“密码输入正确，正进入系统！”；如果输入错误，输出“密码输入错误，您已经输入*次”。"
   ]
  },
  {
   "cell_type": "code",
   "execution_count": 41,
   "metadata": {},
   "outputs": [
    {
     "name": "stdout",
     "output_type": "stream",
     "text": [
      "请输入一位数字密码！1\n",
      "密码输入错误，您已经输错 1 次\n",
      "请输入一位数字密码！1\n",
      "密码输入错误，您已经输错 2 次\n",
      "请输入一位数字密码！1\n",
      "密码输入错误，您已经输错 3 次\n",
      "请输入一位数字密码！1\n",
      "密码输入错误，您已经输错 4 次\n",
      "请输入一位数字密码！1\n",
      "密码输入错误，您已经输错 5 次\n",
      "请输入一位数字密码！1\n",
      "密码输入错误，您已经输错 6 次\n",
      "密码错误6次，请与发卡行联系\n"
     ]
    }
   ],
   "source": [
    "password=0\n",
    "i=1\n",
    "while i<7:\n",
    "    num=input(\"请输入一位数字密码！\")\n",
    "    num=int(num)\n",
    "    if num==password:\n",
    "        print(\"密码输入正确，正进入系统！\")\n",
    "        i=7\n",
    "    else:\n",
    "        print(\"密码输入错误，您已经输错\",i,'次')\n",
    "        i+=1\n",
    "        if i==7:\n",
    "            print(\"密码错误6次，请与发卡行联系\") "
   ]
  },
  {
   "cell_type": "code",
   "execution_count": null,
   "metadata": {},
   "outputs": [],
   "source": []
  }
 ],
 "metadata": {
  "kernelspec": {
   "display_name": "Python 3",
   "language": "python",
   "name": "python3"
  },
  "language_info": {
   "codemirror_mode": {
    "name": "ipython",
    "version": 3
   },
   "file_extension": ".py",
   "mimetype": "text/x-python",
   "name": "python",
   "nbconvert_exporter": "python",
   "pygments_lexer": "ipython3",
   "version": "3.7.4"
  }
 },
 "nbformat": 4,
 "nbformat_minor": 2
}
