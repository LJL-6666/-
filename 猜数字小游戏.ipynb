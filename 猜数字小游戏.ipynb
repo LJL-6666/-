{
 "cells": [
  {
   "cell_type": "code",
   "execution_count": 1,
   "metadata": {},
   "outputs": [
    {
     "name": "stdout",
     "output_type": "stream",
     "text": [
      "数字猜谜小游戏(0-100)\n",
      "你将拥有10次机会\n",
      "一旦机会用尽，游戏将会立刻结束\n",
      "请输入你猜的数字:20\n",
      "数字太小，继续!\n",
      "猜测的数字是:80\n",
      "数字太大，继续!\n",
      "猜测的数字是:60\n",
      "数字太大，继续!\n",
      "猜测的数字是:40\n",
      "数字太大，继续!\n",
      "猜测的数字是:30\n",
      "数字太小，继续!\n",
      "猜测的数字是:36\n",
      "数字太大，继续!\n",
      "猜测的数字是:33\n",
      "恭喜，你猜对了，数字是: 33\n",
      "猜测次数: 7\n",
      "你的游戏成绩为: 40\n"
     ]
    }
   ],
   "source": [
    "#创建随机数\n",
    "import random\n",
    "num = random.randint(0,100)\n",
    "#记录次数\n",
    "times = 0\n",
    " \n",
    "#游戏介绍\n",
    "print(\"数字猜谜小游戏(0-100)\")\n",
    "print(\"你将拥有10次机会\")\n",
    "print(\"一旦机会用尽，游戏将会立刻结束\")\n",
    " \n",
    "#第一次输入猜测的数字\n",
    "guess = int(input(\"请输入你猜的数字:\"))\n",
    "times = times + 1\n",
    "   \n",
    "#循环判断\n",
    "while 0 <= guess <= 100:\n",
    "    if times == 10:\n",
    "        if guess > num:\n",
    "            print(\"猜的数字太大了\",num)\n",
    "            print(\"机会用尽，游戏结束!\")\n",
    "        elif guess < num:\n",
    "            print(\"猜的数字太小了\",num)\n",
    "            print(\"机会用尽，游戏结束!\")\n",
    "        else:\n",
    "            print(\"恭喜，你猜对了，数字是:\",num)\n",
    "            score = 10*(11-times)\n",
    "            print(\"猜测次数:\",times)\n",
    "            print(\"你的游戏成绩为:\",score)\n",
    "        break\n",
    "    else:\n",
    "        if guess > num:\n",
    "            print(\"数字太大，继续!\")\n",
    "        elif guess < num:\n",
    "            print(\"数字太小，继续!\")\n",
    "        else:\n",
    "            print(\"恭喜，你猜对了，数字是:\",num)\n",
    "            score = 10*(11-times)\n",
    "            print(\"猜测次数:\",times)\n",
    "            print(\"你的游戏成绩为:\",score)\n",
    "            break\n",
    "        guess = int(input(\"猜测的数字是:\"))\n",
    "        times = times + 1      \n",
    "else:\n",
    "    print(\"机会用尽，游戏结束!!\")"
   ]
  },
  {
   "cell_type": "code",
   "execution_count": null,
   "metadata": {},
   "outputs": [],
   "source": []
  }
 ],
 "metadata": {
  "kernelspec": {
   "display_name": "Python 3",
   "language": "python",
   "name": "python3"
  },
  "language_info": {
   "codemirror_mode": {
    "name": "ipython",
    "version": 3
   },
   "file_extension": ".py",
   "mimetype": "text/x-python",
   "name": "python",
   "nbconvert_exporter": "python",
   "pygments_lexer": "ipython3",
   "version": "3.6.5"
  }
 },
 "nbformat": 4,
 "nbformat_minor": 2
}
