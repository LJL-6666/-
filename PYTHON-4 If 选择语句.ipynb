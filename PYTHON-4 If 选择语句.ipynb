{
 "cells": [
  {
   "cell_type": "markdown",
   "metadata": {},
   "source": [
    "### 4.1 程序结构"
   ]
  },
  {
   "cell_type": "markdown",
   "metadata": {},
   "source": [
    "##### 计算机在解决某个具体问题时，主要有3中情形，分别是顺序执行全部语句、选择执行部分语句、循环执行部分语句。对应程序中的3种基本结构。顺序结构、选择结构、循环结构。"
   ]
  },
  {
   "cell_type": "markdown",
   "metadata": {},
   "source": [
    "### 4.2 常用的选择语句"
   ]
  },
  {
   "cell_type": "markdown",
   "metadata": {},
   "source": [
    "##### python中选择语句只有if语句，多重选择需要使用if...elif...else多分支语句或者if语句的嵌套"
   ]
  },
  {
   "cell_type": "markdown",
   "metadata": {},
   "source": [
    "#### 4.2.1 最简单的if 语句"
   ]
  },
  {
   "cell_type": "code",
   "execution_count": 2,
   "metadata": {},
   "outputs": [],
   "source": [
    "#语法\n",
    "#if 表达式：\n",
    "#   语句块"
   ]
  },
  {
   "cell_type": "code",
   "execution_count": 3,
   "metadata": {
    "collapsed": true
   },
   "outputs": [],
   "source": [
    "#其中，表达式是布尔值或变量，也可以是逻辑表达式，如：a>b and a!=c"
   ]
  },
  {
   "cell_type": "code",
   "execution_count": 4,
   "metadata": {
    "collapsed": true
   },
   "outputs": [],
   "source": [
    "#案例1：如果你购买了一张彩票，现在中奖号码公布出来了，号码是432678，那么if语句可以判断是否中奖。"
   ]
  },
  {
   "cell_type": "code",
   "execution_count": 5,
   "metadata": {},
   "outputs": [
    {
     "name": "stdout",
     "output_type": "stream",
     "text": [
      "请输入您的6位彩票号码2345\n",
      "2345 你未中本期大奖！\n"
     ]
    }
   ],
   "source": [
    "number=int(input(\"请输入您的6位彩票号码\"))\n",
    "if number==432678:\n",
    "    print(number,\"你中奖了，请速来领奖！\")\n",
    "if number !=432678:\n",
    "    print(number,\"你未中本期大奖！\")"
   ]
  },
  {
   "cell_type": "code",
   "execution_count": null,
   "metadata": {},
   "outputs": [],
   "source": []
  },
  {
   "cell_type": "code",
   "execution_count": 6,
   "metadata": {
    "collapsed": true
   },
   "outputs": [],
   "source": [
    "#案例2：在实际商品销售中，经常会对商品价格、销售进行分类，如商品销量大于或等于100的商品用A来表示。"
   ]
  },
  {
   "cell_type": "code",
   "execution_count": 7,
   "metadata": {},
   "outputs": [
    {
     "name": "stdout",
     "output_type": "stream",
     "text": [
      "105 此类商品为A类商品\n"
     ]
    }
   ],
   "source": [
    "data=105\n",
    "if data>=100:\n",
    "    print(data,\"此类商品为A类商品\")"
   ]
  },
  {
   "cell_type": "code",
   "execution_count": null,
   "metadata": {},
   "outputs": [],
   "source": []
  },
  {
   "cell_type": "markdown",
   "metadata": {},
   "source": [
    "#### 备注：常见错误"
   ]
  },
  {
   "cell_type": "code",
   "execution_count": 10,
   "metadata": {},
   "outputs": [
    {
     "ename": "SyntaxError",
     "evalue": "invalid syntax (<ipython-input-10-36aaab43be38>, line 4)",
     "output_type": "error",
     "traceback": [
      "\u001b[1;36m  File \u001b[1;32m\"<ipython-input-10-36aaab43be38>\"\u001b[1;36m, line \u001b[1;32m4\u001b[0m\n\u001b[1;33m    if number==5\u001b[0m\n\u001b[1;37m                ^\u001b[0m\n\u001b[1;31mSyntaxError\u001b[0m\u001b[1;31m:\u001b[0m invalid syntax\n"
     ]
    }
   ],
   "source": [
    "#错误1：\n",
    "#if语句后未加冒号。\n",
    "number=5\n",
    "if number==5\n",
    "   print(\"number的值为5\")"
   ]
  },
  {
   "cell_type": "markdown",
   "metadata": {},
   "source": [
    "#### 4.2.2 if...else语句"
   ]
  },
  {
   "cell_type": "code",
   "execution_count": 20,
   "metadata": {},
   "outputs": [],
   "source": [
    "#语法格式如下：\n",
    "#if 表达式：\n",
    "#   语句块1\n",
    "#else:\n",
    "#   语句块2"
   ]
  },
  {
   "cell_type": "code",
   "execution_count": 24,
   "metadata": {},
   "outputs": [
    {
     "name": "stdout",
     "output_type": "stream",
     "text": [
      "输入您的6位彩票号码234567\n",
      "234567您未中奖！\n"
     ]
    }
   ],
   "source": [
    "#案例3\n",
    "#如果你购买了一张彩票，现在中奖号码公布出来了，号码是432678，根据输入的彩票号码判断是否中奖\n",
    "number=int(input(\"输入您的6位彩票号码\"))\n",
    "if number==432678:\n",
    "    print(number,\"您的彩票中奖了，请速来领奖！\",sep=\"\")\n",
    "else:\n",
    "    print(number,\"您未中奖！\",sep=\"\")"
   ]
  },
  {
   "cell_type": "code",
   "execution_count": null,
   "metadata": {},
   "outputs": [],
   "source": []
  },
  {
   "cell_type": "code",
   "execution_count": 26,
   "metadata": {},
   "outputs": [
    {
     "name": "stdout",
     "output_type": "stream",
     "text": [
      "105 此类商品为A类商品！\n"
     ]
    }
   ],
   "source": [
    "#案例4\n",
    "#在实际商品销售中，经常会对商品价格、销售进行分类，如商品销量大于或等于100的商品用A来表示，否则用B.\n",
    "data=105\n",
    "if data>=100:\n",
    "    print(data,\"此类商品为A类商品！\")\n",
    "else:\n",
    "    print(data,\"此类商品为B类商品！\")"
   ]
  },
  {
   "cell_type": "code",
   "execution_count": null,
   "metadata": {},
   "outputs": [],
   "source": []
  },
  {
   "cell_type": "code",
   "execution_count": 27,
   "metadata": {},
   "outputs": [
    {
     "name": "stdout",
     "output_type": "stream",
     "text": [
      "-1\n"
     ]
    }
   ],
   "source": [
    "#备注：条件表达式的使用\n",
    "#if...else语句可以使用表达式简化，如下代码：\n",
    "a=-9\n",
    "if a>0:\n",
    "    b=a\n",
    "else:\n",
    "    b=-1\n",
    "print(b)"
   ]
  },
  {
   "cell_type": "code",
   "execution_count": null,
   "metadata": {},
   "outputs": [],
   "source": []
  },
  {
   "cell_type": "code",
   "execution_count": 28,
   "metadata": {},
   "outputs": [
    {
     "name": "stdout",
     "output_type": "stream",
     "text": [
      "9\n"
     ]
    }
   ],
   "source": [
    "#简化为：\n",
    "a=-9\n",
    "b=a if a>0 else -a\n",
    "print(b)"
   ]
  },
  {
   "cell_type": "code",
   "execution_count": null,
   "metadata": {},
   "outputs": [],
   "source": []
  },
  {
   "cell_type": "markdown",
   "metadata": {
    "collapsed": true
   },
   "source": [
    "#### 4.2.3 if...elif...else语句"
   ]
  },
  {
   "cell_type": "code",
   "execution_count": null,
   "metadata": {},
   "outputs": [],
   "source": [
    "#如果满足某种条件，进行某种处理，否则，如果满足另一种条件，则执行另一种处理......\n",
    "#if...elif...else语法如下：\n",
    "#if 表达式1:\n",
    "#    语句1\n",
    "#elif 表达式2:\n",
    "#    语句2\n",
    "#elif 表达式3:\n",
    "#    语句3\n",
    "#...\n",
    "#else:\n",
    "#     语句3\n",
    "    "
   ]
  },
  {
   "cell_type": "code",
   "execution_count": 1,
   "metadata": {},
   "outputs": [],
   "source": [
    "#案例5:某公司图书在京东商城的7天销售数据进行分析，根据输入商品的7天的销售数量，输出该商品7天销售band属于A、B、C、D哪一个级别。"
   ]
  },
  {
   "cell_type": "code",
   "execution_count": 2,
   "metadata": {},
   "outputs": [
    {
     "name": "stdout",
     "output_type": "stream",
     "text": [
      "请输入商品7天销量4000\n",
      "该商品为A！\n"
     ]
    }
   ],
   "source": [
    "number=int(input(\"请输入商品7天销量\"))\n",
    "if number>=1000:\n",
    "    print(\"该商品为A！\")\n",
    "elif number>=500:\n",
    "    print(\"该商品为B！\")\n",
    "elif number>=300:\n",
    "    print(\" 该商品为C！\")\n",
    "else:\n",
    "    print(\"该商品为D！\")"
   ]
  },
  {
   "cell_type": "code",
   "execution_count": null,
   "metadata": {},
   "outputs": [],
   "source": []
  },
  {
   "cell_type": "code",
   "execution_count": 3,
   "metadata": {},
   "outputs": [],
   "source": [
    "#备注：if和elif都需要判断表达式真假，而else则不需要判断，不能单独使用。"
   ]
  },
  {
   "cell_type": "markdown",
   "metadata": {},
   "source": [
    "#### 4.2.4 if语句嵌套"
   ]
  },
  {
   "cell_type": "code",
   "execution_count": 4,
   "metadata": {},
   "outputs": [],
   "source": [
    "#在最简单的if语句中嵌套if...else语句"
   ]
  },
  {
   "cell_type": "code",
   "execution_count": 6,
   "metadata": {},
   "outputs": [],
   "source": [
    "#if 表达式1:\n",
    "#    if 表达式2:\n",
    "#        语句1\n",
    "#    else:\n",
    "#        语句2"
   ]
  },
  {
   "cell_type": "code",
   "execution_count": 7,
   "metadata": {},
   "outputs": [],
   "source": [
    "#案例6:使用 if嵌套实现案例5"
   ]
  },
  {
   "cell_type": "code",
   "execution_count": 8,
   "metadata": {},
   "outputs": [
    {
     "name": "stdout",
     "output_type": "stream",
     "text": [
      "请输入商品7天销量234\n",
      "该商品为D！\n"
     ]
    }
   ],
   "source": [
    "number=int(input(\"请输入商品7天销量\"))\n",
    "if number>=1000:\n",
    "    print(\"该商品为A！\")\n",
    "else:\n",
    "    if number>=500:\n",
    "        print(\"该商品为B！\")\n",
    "    else:\n",
    "        if number >=300:\n",
    "            print(\"该商品为C！\")\n",
    "        else:\n",
    "            print(\"该商品为D！\")"
   ]
  },
  {
   "cell_type": "code",
   "execution_count": null,
   "metadata": {},
   "outputs": [],
   "source": []
  },
  {
   "cell_type": "markdown",
   "metadata": {},
   "source": [
    "### 8.3 使用and链接条件的选择语句"
   ]
  },
  {
   "cell_type": "code",
   "execution_count": 9,
   "metadata": {},
   "outputs": [],
   "source": [
    "#案例7:使用and来实现满足这两个条件的判断，输入年龄>=18,年龄<=70,使用 print输出“您可以申请小型汽车驾驶证”"
   ]
  },
  {
   "cell_type": "code",
   "execution_count": 11,
   "metadata": {},
   "outputs": [
    {
     "name": "stdout",
     "output_type": "stream",
     "text": [
      "请输入您的年龄：12\n"
     ]
    }
   ],
   "source": [
    "age=int(input(\"请输入您的年龄：\"))\n",
    "if age>=18 and age<=70:\n",
    "    print(\"您可以申请小型汽车驾驶证！\")"
   ]
  },
  {
   "cell_type": "code",
   "execution_count": null,
   "metadata": {},
   "outputs": [],
   "source": []
  },
  {
   "cell_type": "code",
   "execution_count": 12,
   "metadata": {},
   "outputs": [],
   "source": [
    "#案例8:求除以3余2，除以5余3，除以7余2的数，利用and连接多个条件语句实现。"
   ]
  },
  {
   "cell_type": "code",
   "execution_count": 18,
   "metadata": {},
   "outputs": [
    {
     "name": "stdout",
     "output_type": "stream",
     "text": [
      "今有物不知其物，三三数之剩二，五五数之剩三，七七数之剩二，\n",
      "请输入您认为23\n",
      "23 符合条件：三三数之剩二，五五数之剩三，七七数之剩二，问几何？\n"
     ]
    }
   ],
   "source": [
    "print(\"今有物不知其物，三三数之剩二，五五数之剩三，七七数之剩二，\")\n",
    "number=int(input(\"请输入您认为\"))\n",
    "if number%3==2 and number%5==3 and number%7==2:\n",
    "    print(number,\"符合条件：三三数之剩二，五五数之剩三，七七数之剩二，问几何？\")\n",
    "else:\n",
    "    print(\"不符合条件！\")"
   ]
  },
  {
   "cell_type": "code",
   "execution_count": null,
   "metadata": {},
   "outputs": [],
   "source": []
  },
  {
   "cell_type": "markdown",
   "metadata": {},
   "source": [
    "### 8.4 使用or连接条件的选择语句"
   ]
  },
  {
   "cell_type": "code",
   "execution_count": 19,
   "metadata": {},
   "outputs": [],
   "source": [
    "#or是或者的意思"
   ]
  },
  {
   "cell_type": "code",
   "execution_count": 23,
   "metadata": {},
   "outputs": [
    {
     "name": "stdout",
     "output_type": "stream",
     "text": [
      "请输入商品日销量34\n",
      "该商品为正常商品\n"
     ]
    }
   ],
   "source": [
    "#案例9:\n",
    "sales=int(input(\"请输入商品日销量\"))\n",
    "if sales<10 or sales>100:\n",
    "    print(\"该商品为重点关注商品\")\n",
    "else:\n",
    "    print(\"该商品为正常商品\")"
   ]
  },
  {
   "cell_type": "code",
   "execution_count": null,
   "metadata": {},
   "outputs": [],
   "source": []
  },
  {
   "cell_type": "markdown",
   "metadata": {},
   "source": [
    "### 8.5 使用not关键字的选择语句"
   ]
  },
  {
   "cell_type": "code",
   "execution_count": 24,
   "metadata": {},
   "outputs": [
    {
     "name": "stdout",
     "output_type": "stream",
     "text": [
      "you lost!\n"
     ]
    }
   ],
   "source": [
    "#案例10:\n",
    "data=None\n",
    "if not data:\n",
    "    print(\"you lost!\")\n",
    "else:\n",
    "    print(\"you win!\")"
   ]
  },
  {
   "cell_type": "code",
   "execution_count": null,
   "metadata": {},
   "outputs": [],
   "source": []
  },
  {
   "cell_type": "code",
   "execution_count": 26,
   "metadata": {},
   "outputs": [
    {
     "name": "stdout",
     "output_type": "stream",
     "text": [
      "you win!\n"
     ]
    }
   ],
   "source": [
    "#案例11:\n",
    "data='a'\n",
    "if not data:\n",
    "    print(\"you lost!\")\n",
    "else:\n",
    "    print(\"you win!\")"
   ]
  },
  {
   "cell_type": "code",
   "execution_count": null,
   "metadata": {},
   "outputs": [],
   "source": []
  },
  {
   "cell_type": "code",
   "execution_count": 29,
   "metadata": {},
   "outputs": [
    {
     "name": "stdout",
     "output_type": "stream",
     "text": [
      "请输入1位数字密码‘2’\n",
      "非法输入\n"
     ]
    }
   ],
   "source": [
    "#案例12:\n",
    "a=input(\"请输入1位数字密码\")\n",
    "b=['0','1','2','3','4','5','6','7','8','9']\n",
    "if a not in b:\n",
    "    print(\"非法输入\")"
   ]
  },
  {
   "cell_type": "code",
   "execution_count": null,
   "metadata": {},
   "outputs": [],
   "source": []
  }
 ],
 "metadata": {
  "kernelspec": {
   "display_name": "Python 3",
   "language": "python",
   "name": "python3"
  },
  "language_info": {
   "codemirror_mode": {
    "name": "ipython",
    "version": 3
   },
   "file_extension": ".py",
   "mimetype": "text/x-python",
   "name": "python",
   "nbconvert_exporter": "python",
   "pygments_lexer": "ipython3",
   "version": "3.7.4"
  }
 },
 "nbformat": 4,
 "nbformat_minor": 2
}
